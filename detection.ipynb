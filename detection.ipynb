{
 "cells": [
  {
   "cell_type": "code",
   "execution_count": 2,
   "metadata": {},
   "outputs": [
    {
     "name": "stdout",
     "output_type": "stream",
     "text": [
      "\n",
      "Prediction for the job post: Real Job\n"
     ]
    }
   ],
   "source": [
    "# Step 1: Import Necessary Libraries\n",
    "import requests\n",
    "from bs4 import BeautifulSoup\n",
    "import joblib\n",
    "\n",
    "# Step 2: Load the Trained Model and TF-IDF Vectorizer\n",
    "model = joblib.load('random_forest_model.pkl')  # Load the saved model\n",
    "vectorizer = joblib.load('tfidf_vectorizer.pkl')     # Load the TF-IDF vectorizer\n",
    "\n",
    "# Step 3: Function to Extract Job Details from a URL\n",
    "def extract_job_details_from_url(job_url):\n",
    "    \"\"\"\n",
    "    Extracts job details (title, description, requirements, benefits) from a job posting URL.\n",
    "\n",
    "    Parameters:\n",
    "        job_url (str): URL of the job posting.\n",
    "\n",
    "    Returns:\n",
    "        str: Combined job details text.\n",
    "    \"\"\"\n",
    "    try:\n",
    "        # Make a request to the job URL\n",
    "        response = requests.get(job_url)\n",
    "        response.raise_for_status()  # Raise an error for failed requests\n",
    "        \n",
    "        # Parse the HTML content using BeautifulSoup\n",
    "        soup = BeautifulSoup(response.text, 'html.parser')\n",
    "        \n",
    "        # Extract job details\n",
    "        title = soup.find('h1').get_text(strip=True) if soup.find('h1') else ''\n",
    "        description = soup.find('div', {'class': 'description'}).get_text(strip=True) if soup.find('div', {'class': 'description'}) else ''\n",
    "        requirements = soup.find('div', {'class': 'requirements'}).get_text(strip=True) if soup.find('div', {'class': 'requirements'}) else ''\n",
    "        benefits = soup.find('div', {'class': 'benefits'}).get_text(strip=True) if soup.find('div', {'class': 'benefits'}) else ''\n",
    "        \n",
    "        # Combine all details into a single text\n",
    "        job_text = f\"{title} {description} {requirements} {benefits}\"\n",
    "        return job_text\n",
    "    except Exception as e:\n",
    "        print(f\"Error extracting job details: {e}\")\n",
    "        return ''\n",
    "\n",
    "# Step 4: Function to Predict Job Authenticity\n",
    "def predict_job_from_url(job_url):\n",
    "    \"\"\"\n",
    "    Predicts if a job post from the given URL is fake or real.\n",
    "\n",
    "    Parameters:\n",
    "        job_url (str): URL of the job posting.\n",
    "\n",
    "    Returns:\n",
    "        str: \"Fake Job\" or \"Real Job\".\n",
    "    \"\"\"\n",
    "    # Extract job details\n",
    "    job_text = extract_job_details_from_url(job_url)\n",
    "    if not job_text:\n",
    "        return \"Could not extract job details. Please check the URL or website structure.\"\n",
    "\n",
    "    # Preprocess the extracted text using TF-IDF\n",
    "    job_text_tfidf = vectorizer.transform([job_text])\n",
    "    \n",
    "    # Predict using the trained model\n",
    "    prediction = model.predict(job_text_tfidf)\n",
    "    \n",
    "    # Return the prediction result\n",
    "    return \"Fake Job\" if prediction[0] else \"Real Job\"\n",
    "\n",
    "# Step 5: Test the Function with a Job URL\n",
    "job_url = input(\"Enter the job posting link: \")\n",
    "result = predict_job_from_url(job_url)\n",
    "print(\"\\nPrediction for the job post:\", result)\n"
   ]
  }
 ],
 "metadata": {
  "kernelspec": {
   "display_name": "Python 3",
   "language": "python",
   "name": "python3"
  },
  "language_info": {
   "codemirror_mode": {
    "name": "ipython",
    "version": 3
   },
   "file_extension": ".py",
   "mimetype": "text/x-python",
   "name": "python",
   "nbconvert_exporter": "python",
   "pygments_lexer": "ipython3",
   "version": "3.10.7"
  }
 },
 "nbformat": 4,
 "nbformat_minor": 2
}
